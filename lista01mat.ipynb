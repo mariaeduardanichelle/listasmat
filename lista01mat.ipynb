{
  "nbformat": 4,
  "nbformat_minor": 0,
  "metadata": {
    "colab": {
      "provenance": []
    },
    "kernelspec": {
      "name": "python3",
      "display_name": "Python 3"
    },
    "language_info": {
      "name": "python"
    }
  },
  "cells": [
    {
      "cell_type": "code",
      "source": [
        "#1- a\n",
        "nome = str(input('Digite o nome do planeta: ')).title()\n",
        "massa = float(input('Digite a massa do planeta: '))\n",
        "if massa < 10 ** 23:\n",
        "  massa = massa * 10 ** 23\n",
        "terra = 59.8 * 10 ** 23\n",
        "razao = massa / terra\n",
        "print(f'1-a) A razão da massa do planeta {nome} em relação a Terra é {razao}')"
      ],
      "metadata": {
        "id": "2ZLd-h9PdU3U",
        "colab": {
          "base_uri": "https://localhost:8080/"
        },
        "outputId": "6c9757fc-bbd0-4d05-dc56-02b7e48dd8e2"
      },
      "execution_count": null,
      "outputs": [
        {
          "output_type": "stream",
          "name": "stdout",
          "text": [
            "Digite o nome do planeta: Netuno\n",
            "Digite a massa do planeta: 1023\n",
            "1-a) A razão da massa do planeta Netuno em relação a Terra é 17.107023411371237\n"
          ]
        }
      ]
    },
    {
      "cell_type": "code",
      "source": [
        "#1- b\n",
        "import math\n",
        "nome = str(input('Digite o nome do planeta: ')).title()\n",
        "diam = float(input('Digite o diâmetro do planeta: '))\n",
        "massa = float(input('Digite a massa do planeta: '))\n",
        "#caso a pessoa tenha esquecido que os valores estão em notação científica\n",
        "if massa < 10 ** 23:\n",
        "  massa = massa * 10 ** 23\n",
        "raio = diam / 2\n",
        "volume = 4/3 * math.pi * raio ** 3\n",
        "#para calcular a densidade tem que ser kg/m³, por isso precisamos converter km³ para m³\n",
        "volumec = volume * 1000000000\n",
        "densidade = massa / volumec\n",
        "print(f'1-b) (volume: {volumec}); A densidade do planeta {nome} é {densidade} kg/m³')\n",
        "#1- c\n",
        "volumeterra = (4/3 * math.pi * 6378 ** 3) * 1000000000\n",
        "massaterra = 59.8 * (10 ** 23)\n",
        "densidadeterra = massaterra / volumeterra\n",
        "#razão da densidade em relação a terra\n",
        "razaoc = densidade / densidadeterra\n",
        "print(f'1-c) A razão da densidade do planeta {nome} em relação a Terra é {razaoc}')"
      ],
      "metadata": {
        "colab": {
          "base_uri": "https://localhost:8080/"
        },
        "id": "uxg5L7Dxe9_P",
        "outputId": "83b876c1-724a-4635-b98a-ee5dc25589bd"
      },
      "execution_count": null,
      "outputs": [
        {
          "output_type": "stream",
          "name": "stdout",
          "text": [
            "Digite o nome do planeta: Júpiter\n",
            "Digite o diâmetro do planeta: 142984\n",
            "Digite a massa do planeta: 18.991\n",
            "1-b) (volume: 1.5305973228721558e+24); A densidade do planeta Júpiter é 1.240757429548061 kg/m³\n",
            "1-c) A razão da densidade do planeta Júpiter em relação a Terra é 0.0002254902948188018\n"
          ]
        }
      ]
    },
    {
      "cell_type": "code",
      "source": [
        "import math\n",
        "nome = ['Mercúrio', 'Vênus', 'Terra', 'Marte', 'Júpiter', 'Saturno', 'Urano', 'Netuno']\n",
        "diam = [4878, 12120, 12756, 6787, 142984, 120536, 51118, 49660]\n",
        "massa = [3.3 * 10 ** 23, 48.7 * 10 ** 23, 59.8 * 10 ** 23, 6.4 * 10 ** 23, 18.991 * 10 ** 23, 5686 * 10 ** 23, 866 * 10 ** 23, 1023 * 10 ** 23]\n",
        "densi = []\n",
        "print('1-a)')\n",
        "for i, d in enumerate(diam):\n",
        "  t = float(diam[2])\n",
        "  print(f'Massa de {nome[i]} em relação a Terra = {d / t}')\n",
        "print('1-b)')\n",
        "for i, d in enumerate(diam):\n",
        "  r = d / 2\n",
        "  v = (4/3 * math.pi * r ** 3) * 1000000000\n",
        "  dens = float(massa[i]) / v\n",
        "  print(f'Densidade de {nome[i]}: {dens} kg/m³')\n",
        "  densi.append(dens)\n",
        "print('1-c)')\n",
        "for i, v in enumerate(densi):\n",
        "  dt = float(densi[2])\n",
        "  print(f'A relação entre a densidade de {nome[i]} e a densidade da Terra é {v / dt}')"
      ],
      "metadata": {
        "colab": {
          "base_uri": "https://localhost:8080/"
        },
        "id": "2-MYZN5ciQMf",
        "outputId": "58ce8bbd-4b35-4758-be91-aa0d540177eb"
      },
      "execution_count": 23,
      "outputs": [
        {
          "output_type": "stream",
          "name": "stdout",
          "text": [
            "1-a)\n",
            "Massa de Mercúrio em relação a Terra = 0.3824082784571966\n",
            "Massa de Vênus em relação a Terra = 0.9501411100658513\n",
            "Massa de Terra em relação a Terra = 1.0\n",
            "Massa de Marte em relação a Terra = 0.532063342740671\n",
            "Massa de Júpiter em relação a Terra = 11.209156475384132\n",
            "Massa de Saturno em relação a Terra = 9.449357165255567\n",
            "Massa de Urano em relação a Terra = 4.007369081216682\n",
            "Massa de Netuno em relação a Terra = 3.8930699278770775\n",
            "1-b)\n",
            "Densidade de Mercúrio: 5429.876221911776 kg/m³\n",
            "Densidade de Vênus: 5224.2322932376765 kg/m³\n",
            "Densidade de Terra: 5502.4870606741715 kg/m³\n",
            "Densidade de Marte: 3909.7393390385096 kg/m³\n",
            "Densidade de Júpiter: 1.240757429548061 kg/m³\n",
            "Densidade de Saturno: 620.094539861871 kg/m³\n",
            "Densidade de Urano: 1238.219698440792 kg/m³\n",
            "Densidade de Netuno: 1595.3532659676898 kg/m³\n",
            "1-c)\n",
            "A relação entre a densidade de Mercúrio e a densidade da Terra é 0.986803996454378\n",
            "A relação entre a densidade de Vênus e a densidade da Terra é 0.9494310910015292\n",
            "A relação entre a densidade de Terra e a densidade da Terra é 1.0\n",
            "A relação entre a densidade de Marte e a densidade da Terra é 0.7105403967200757\n",
            "A relação entre a densidade de Júpiter e a densidade da Terra é 0.0002254902948188018\n",
            "A relação entre a densidade de Saturno e a densidade da Terra é 0.11269350259696863\n",
            "A relação entre a densidade de Urano e a densidade da Terra é 0.2250290977129683\n",
            "A relação entre a densidade de Netuno e a densidade da Terra é 0.2899331244901147\n"
          ]
        }
      ]
    },
    {
      "cell_type": "code",
      "source": [
        "#2- a\n",
        "import math\n",
        "area = 1/4 * math.pi * 2 **2\n",
        "velocidade = 1800 / area\n",
        "vazao = (velocidade * 0.2 + velocidade) * area\n",
        "print(f'2-a) Se aumentar a velocidade em 20%  a vazâo será: {vazao} cm³/s')\n",
        "#2- b\n",
        "diametro20 = 2 * 0.2 + 2\n",
        "areadi20 = area = 1/4 * math.pi * diametro20 **2 \n",
        "vazao2 = velocidade * areadi20\n",
        "print(f'2-b) Se aumentar a área em 20% a vazão será: {vazao2} cm³/s')"
      ],
      "metadata": {
        "id": "4u6wK91vltcR",
        "colab": {
          "base_uri": "https://localhost:8080/"
        },
        "outputId": "a93ab9d5-e227-4dad-a4d4-58c6d57798a8"
      },
      "execution_count": null,
      "outputs": [
        {
          "output_type": "stream",
          "name": "stdout",
          "text": [
            "2-a) Se aumentar a velocidade em 20%  a vazâo será: 2160.0 cm³/s\n",
            "2-b) Se aumentar a área em 20% a vazão será: 2592.0 cm³/s\n"
          ]
        }
      ]
    },
    {
      "cell_type": "code",
      "source": [
        "#3- a\n",
        "x = 0\n",
        "a = 4/3\n",
        "while True:\n",
        "  x += 1\n",
        "  b = (x+3)/x\n",
        "  if b == a:\n",
        "    break\n",
        "print(f'3-a) x = {x}')"
      ],
      "metadata": {
        "colab": {
          "base_uri": "https://localhost:8080/"
        },
        "id": "WQG2PckLWsBv",
        "outputId": "482fe709-8bc0-4e81-f261-cc848c623de2"
      },
      "execution_count": null,
      "outputs": [
        {
          "output_type": "stream",
          "name": "stdout",
          "text": [
            "3-a) x = 9\n"
          ]
        }
      ]
    },
    {
      "cell_type": "code",
      "source": [
        "#3- b\n",
        "from math import sqrt\n",
        "x1 = (-1 + sqrt(1**2 - 4 * 1 * - 12)) / 2 \n",
        "x2 = (-1 - sqrt(1**2 - 4 * 1 * - 12)) / 2 \n",
        "print(f'3-b) x = {x1}, {x2}')"
      ],
      "metadata": {
        "colab": {
          "base_uri": "https://localhost:8080/"
        },
        "id": "Fy3ZyIEDkoZe",
        "outputId": "fa55a938-e24a-45cd-97d2-80db5dd52673"
      },
      "execution_count": 2,
      "outputs": [
        {
          "output_type": "stream",
          "name": "stdout",
          "text": [
            "3-b) x = 3.0, -4.0\n"
          ]
        }
      ]
    },
    {
      "cell_type": "code",
      "source": [
        "#4\n",
        "x = (1.8 * 400) / 1.2\n",
        "print(f'4) O valor da energia produzida é: {x} watts')"
      ],
      "metadata": {
        "id": "f5yeW5Abvwop",
        "colab": {
          "base_uri": "https://localhost:8080/"
        },
        "outputId": "bcbd955f-033f-4134-834c-a7b58b98a6dd"
      },
      "execution_count": null,
      "outputs": [
        {
          "output_type": "stream",
          "name": "stdout",
          "text": [
            "4) O valor da energia produzida é: 600.0 watts\n"
          ]
        }
      ]
    },
    {
      "cell_type": "code",
      "source": [
        "#5\n",
        "x = 0\n",
        "horas8 = 20 * 8\n",
        "while True:\n",
        "  x += 1\n",
        "  horas5 = x * 5\n",
        "  if horas8 == horas5:\n",
        "    break\n",
        "print(f'5) O prazo será {x} dias') "
      ],
      "metadata": {
        "colab": {
          "base_uri": "https://localhost:8080/"
        },
        "id": "WoPwtUrGxDxD",
        "outputId": "a25a8baf-c422-4871-cb5f-efd80e75cbbd"
      },
      "execution_count": null,
      "outputs": [
        {
          "output_type": "stream",
          "name": "stdout",
          "text": [
            "5) O prazo será 32 dias\n"
          ]
        }
      ]
    }
  ]
}